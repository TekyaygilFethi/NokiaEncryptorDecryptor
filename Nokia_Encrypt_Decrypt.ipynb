{
  "nbformat": 4,
  "nbformat_minor": 0,
  "metadata": {
    "colab": {
      "name": "Nokia Encrypt Decrypt.ipynb",
      "provenance": [],
      "collapsed_sections": [],
      "authorship_tag": "ABX9TyOjGlICB29bLC3J4/3Cln8u",
      "include_colab_link": true
    },
    "kernelspec": {
      "name": "python3",
      "display_name": "Python 3"
    }
  },
  "cells": [
    {
      "cell_type": "markdown",
      "metadata": {
        "id": "view-in-github",
        "colab_type": "text"
      },
      "source": [
        "<a href=\"https://colab.research.google.com/github/TekyaygilFethi/NokiaEncryptorDecryptor/blob/main/Nokia_Encrypt_Decrypt.ipynb\" target=\"_parent\"><img src=\"https://colab.research.google.com/assets/colab-badge.svg\" alt=\"Open In Colab\"/></a>"
      ]
    },
    {
      "cell_type": "markdown",
      "metadata": {
        "id": "pH0SIhboZwfG"
      },
      "source": [
        "# Dictionary Data"
      ]
    },
    {
      "cell_type": "code",
      "metadata": {
        "id": "FBkqugBOGnTS"
      },
      "source": [
        "nokiaDict={0:[\" \",\"0\"],\n",
        "           1:[\"1\"],\n",
        "           2:[\"a\",\"b\",\"c\",\"A\",\"B\",\"C\",\"2\"],\n",
        "           3:[\"d\",\"e\",\"f\",\"D\",\"E\",\"F\",\"3\"],\n",
        "           4:[\"g\",\"h\",\"i\",\"G\",\"H\",\"I\",\"4\"],\n",
        "           5:[\"j\",\"k\",\"l\",\"J\",\"K\",\"L\",\"5\"],\n",
        "           6:[\"m\",\"n\",\"o\",\"M\",\"N\",\"O\",\"6\"],\n",
        "           7:[\"p\",\"q\",\"r\",\"s\",\"P\",\"Q\",\"R\",\"S\",\"7\"],\n",
        "           8:[\"t\",\"u\",\"v\",\"T\",\"U\",\"V\",\"8\"],\n",
        "           9:[\"w\",\"x\",\"y\",\"z\",\"W\",\"X\",\"Y\",\"Z\",\"9\"]}"
      ],
      "execution_count": null,
      "outputs": []
    },
    {
      "cell_type": "markdown",
      "metadata": {
        "id": "BHNRa3VxZ0vF"
      },
      "source": [
        "# Functions"
      ]
    },
    {
      "cell_type": "code",
      "metadata": {
        "id": "uSCtctCqZnY4"
      },
      "source": [
        "def List2String(list):\n",
        "  val=\"\"\n",
        "  for i in list:\n",
        "    val+=i\n",
        "  return val\n",
        "\n",
        "def DecryptNokia(msg):\n",
        "  encMsg=[]\n",
        "  keyPlace=0\n",
        "  msgIter=0\n",
        "  \n",
        "  for i in range(len(msg)):\n",
        "    if msg[i]==\"-\":\n",
        "        keyPlace=0\n",
        "        continue\n",
        "\n",
        "    key=int(msg[i])\n",
        "\n",
        "    if msgIter==0:\n",
        "      encMsg.append(nokiaDict[key][keyPlace])\n",
        "    else: \n",
        "      if msg[i]==msg[i-1]:\n",
        "        keyPlace=(keyPlace+1)%len(nokiaDict[key])\n",
        "        msgIter-=1\n",
        "        encMsg[msgIter]=nokiaDict[key][keyPlace]        \n",
        "      else:\n",
        "        keyPlace=0\n",
        "        encMsg.append(nokiaDict[key][keyPlace])\n",
        "\n",
        "    msgIter+=1\n",
        "  return List2String(encMsg)\n",
        "\n",
        "def EncryptNokia(stringVal):\n",
        "  val=\"\"\n",
        "  prevKey=-10\n",
        "\n",
        "  for ch in stringVal:    \n",
        "    for key,value in nokiaDict.items():\n",
        "      if ch in value:\n",
        "        if key==prevKey:\n",
        "          val+=\"-\"\n",
        "        val+=str(str(key)*(value.index(ch)+1))\n",
        "        prevKey=key\n",
        "  return val"
      ],
      "execution_count": null,
      "outputs": []
    },
    {
      "cell_type": "markdown",
      "metadata": {
        "id": "S8GGpuj2Zt2H"
      },
      "source": [
        "# Tests"
      ]
    },
    {
      "cell_type": "code",
      "metadata": {
        "id": "hTpnf8N4IyWQ"
      },
      "source": [
        "msgTest=\"833777783377733077788777755527775552078877778805588777388\""
      ],
      "execution_count": null,
      "outputs": []
    },
    {
      "cell_type": "code",
      "metadata": {
        "id": "-V9b9SGqSvjH"
      },
      "source": [
        "print(DecryptNokia(msgTest))"
      ],
      "execution_count": null,
      "outputs": []
    },
    {
      "cell_type": "code",
      "metadata": {
        "id": "IsZIiPQCVY0Y"
      },
      "source": [
        "print(EncryptNokia(\"testere ruslarla pusu kurdu\"))"
      ],
      "execution_count": null,
      "outputs": []
    }
  ]
}